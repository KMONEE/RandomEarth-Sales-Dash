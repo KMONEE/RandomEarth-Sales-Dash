{
 "cells": [
  {
   "cell_type": "code",
   "execution_count": null,
   "metadata": {},
   "outputs": [],
   "source": [
    "import streamlit as st\n",
    "import pandas as pd\n",
    "import requests\n",
    "import ast"
   ]
  },
  {
   "cell_type": "code",
   "execution_count": null,
   "metadata": {},
   "outputs": [],
   "source": [
    "nested_egg = pd.read_json('https://api.flipsidecrypto.com/api/v2/queries/290a91fb-8186-486d-992e-985839352809/data/latest')\n",
    "loot = pd.read_json('https://api.flipsidecrypto.com/api/v2/queries/2208cc91-e624-4b40-b666-f65c8b6405f8/data/latest')\n",
    "eggs = pd.read_json('https://api.flipsidecrypto.com/api/v2/queries/ee319c5f-4f03-41b5-b607-99f306fe1e2f/data/latest')\n",
    "meteor_dust = pd.read_json('https://api.flipsidecrypto.com/api/v2/queries/8eebec3c-db0e-4051-a5c2-50a5deb1070b/data/latest')\n",
    "meteors = pd.read_json('https://api.flipsidecrypto.com/api/v2/queries/b9778a1d-9b63-4ba5-a48f-7b28569b5603/data/latest')\n",
    "#IT IS ABSOLUTELY CRUCIAL THAT YOU DO NOT CHANGE THE ORIGINAL NAMES OF THE DATAFRAME COLUMNS ON VELOCITY\n",
    "\n",
    "#MUST STORE IN A DICTIONARY \n",
    "current_nft_dict = {'nested_egg':nested_egg, 'loot':loot, 'eggs':eggs, 'meteor_dust':meteor_dust, 'meteors':meteors}\n",
    "\n"
   ]
  },
  {
   "cell_type": "code",
   "execution_count": null,
   "metadata": {},
   "outputs": [],
   "source": [
    "nft_luna_price_df = []\n",
    "for nft in current_nft_dict:\n",
    "    #renames columns from Flipside dataframes according to NFT\n",
    "    nft_luna_price_df.append(current_nft_dict[nft][['BLOCK_TIMESTAMP', 'NFT_LUNA_PRICE']].rename({'NFT_LUNA_PRICE':f'{nft}'}, axis = 1))\n",
    "nft_luna_price_df = pd.concat(nft_luna_price_df)\n",
    "nft_luna_price_df['BLOCK_TIMESTAMP'] = pd.to_datetime(nft_luna_price_df['BLOCK_TIMESTAMP'])\n",
    "nft_luna_price_df.set_index('BLOCK_TIMESTAMP', inplace = True)\n",
    "nft_luna_price_df.index = nft_luna_price_df.index.round('D')"
   ]
  },
  {
   "cell_type": "markdown",
   "metadata": {},
   "source": [
    "# START HERE"
   ]
  },
  {
   "cell_type": "code",
   "execution_count": null,
   "metadata": {},
   "outputs": [],
   "source": [
    "nft_luna_price_df = []\n",
    "for nft in current_nft_dict:\n",
    "    #renames columns from Flipside dataframes according to NFT\n",
    "    nft_luna_price_df.append(current_nft_dict[nft][['BLOCK_TIMESTAMP', 'NFT_TYPE', 'NFT_LUNA_PRICE', 'NFT_UST_PRICE_AT_PURCHASE']])\n",
    "\n",
    "nft_luna_price_df = pd.concat(nft_luna_price_df)\n",
    "nft_luna_price_df['BLOCK_TIMESTAMP'] = pd.to_datetime(nft_luna_price_df['BLOCK_TIMESTAMP'])\n",
    "nft_luna_price_df.set_index('BLOCK_TIMESTAMP', inplace = True)\n",
    "nft_luna_price_df.index = nft_luna_price_df.index.round('D')\n",
    "nft_luna_price_df\n"
   ]
  },
  {
   "cell_type": "code",
   "execution_count": null,
   "metadata": {},
   "outputs": [],
   "source": [
    "total_df = nft_luna_price_df.groupby(['BLOCK_TIMESTAMP', 'NFT_TYPE']).sum().rename(columns={'NFT_LUNA_PRICE':'TOTAL_LUNA', 'NFT_UST_PRICE_AT_PURCHASE':'TOTAL_UST'})\n",
    "average_df = nft_luna_price_df.groupby(['BLOCK_TIMESTAMP', 'NFT_TYPE']).mean().rename(columns={'NFT_LUNA_PRICE':'AVERAGE_LUNA', 'NFT_UST_PRICE_AT_PURCHASE':'AVERAGE_UST'})\n",
    "tx_count_df = nft_luna_price_df.groupby(['BLOCK_TIMESTAMP', 'NFT_TYPE']).count().rename(columns={'NFT_LUNA_PRICE':'TRANSACTION_COUNT'})\n",
    "tx_count_df = tx_count_df['TRANSACTION_COUNT']\n",
    "min_df = nft_luna_price_df.groupby(['BLOCK_TIMESTAMP', 'NFT_TYPE']).min().rename(columns={'NFT_LUNA_PRICE':'MIN_LUNA', 'NFT_UST_PRICE_AT_PURCHASE':'MIN_UST'})\n",
    "max_df = nft_luna_price_df.groupby(['BLOCK_TIMESTAMP', 'NFT_TYPE']).max().rename(columns={'NFT_LUNA_PRICE':'MAX_LUNA', 'NFT_UST_PRICE_AT_PURCHASE':'MAX_UST'})\n",
    "median_df = nft_luna_price_df.groupby(['BLOCK_TIMESTAMP', 'NFT_TYPE']).median().rename(columns={'NFT_LUNA_PRICE':'MEDIAN_LUNA', 'NFT_UST_PRICE_AT_PURCHASE':'MEDIAN_UST'})\n",
    "cum_sum = nft_luna_price_df.groupby(['BLOCK_TIMESTAMP', 'NFT_TYPE']).sum().rename(columns={'NFT_LUNA_PRICE':'TOTAL_LUNA_CUMULATIVE', 'NFT_UST_PRICE_AT_PURCHASE':'TOTAL_UST_CUMULATIVE'}).cumsum(axis=0)\n",
    "\n",
    "\n",
    "master_df = pd.concat([total_df, tx_count_df, average_df, min_df, max_df, median_df, cum_sum], axis = 1)\n",
    "master_df"
   ]
  },
  {
   "cell_type": "markdown",
   "metadata": {},
   "source": [
    "# RARITY TABLE - Meteors, Eggs, Dust\n"
   ]
  },
  {
   "cell_type": "code",
   "execution_count": null,
   "metadata": {},
   "outputs": [],
   "source": [
    "# nft_luna_price_df = []\n",
    "# for nft in current_nft_dict:\n",
    "#     #renames columns from Flipside dataframes according to NFT\n",
    "#     nft_luna_price_df.append(current_nft_dict[nft][['BLOCK_TIMESTAMP', 'NFT_LUNA_PRICE']].rename({'NFT_LUNA_PRICE':f'{nft}'}, axis = 1))\n",
    "# nft_luna_price_df = pd.concat(nft_luna_price_df)\n",
    "# nft_luna_price_df['BLOCK_TIMESTAMP'] = pd.to_datetime(nft_luna_price_df['BLOCK_TIMESTAMP'])\n",
    "# nft_luna_price_df.set_index('BLOCK_TIMESTAMP', inplace = True)\n",
    "# nft_luna_price_df.index = nft_luna_price_df.index.round('D')\n",
    "\n",
    "#meteors\n",
    "meteor_rarity = pd.read_json('https://api.flipsidecrypto.com/api/v2/queries/5d7b0f96-a537-46e5-9b3c-d5145072279f/data/latest')\n",
    "meteor_rarity_merge = pd.merge(meteors, meteor_rarity[['TOKEN_ID', 'RARITY']], on='TOKEN_ID')\n",
    "egg_rarity = pd.read_json('https://api.flipsidecrypto.com/api/v2/queries/284600cc-7b4c-4d47-ab50-dbdd528daf93/data/latest')\n",
    "egg_rarity_merge = pd.merge(eggs, egg_rarity[['TOKEN_ID', 'RARITY']], on='TOKEN_ID')\n",
    "dust_rarity = pd.read_json('https://api.flipsidecrypto.com/api/v2/queries/f4b78c34-07ec-4f5e-8099-7e6db2db24a9/data/latest')\n",
    "dust_rarity_merge = pd.merge(meteor_dust, dust_rarity[['TOKEN_ID', 'RARITY']], on='TOKEN_ID')\n",
    "\n",
    "\n"
   ]
  },
  {
   "cell_type": "markdown",
   "metadata": {},
   "source": [
    "# RARITY - Nested Eggs, Loot"
   ]
  },
  {
   "cell_type": "code",
   "execution_count": null,
   "metadata": {},
   "outputs": [],
   "source": [
    "#Alternative using swagger; this method takes an exceptionally large amount of time\n",
    "def swagger_app(num):\n",
    "        rarity = requests.get(f\"https://fcd.terra.dev/wasm/contracts/terra1vhuyuwwr4rkdpez5f5lmuqavut28h5dt29rpn6/store?query_msg=%7B%22nft_info%22:%7B%22token_id%22:%22{num}%22%7D%7D\").json()\n",
    "        return rarity.get('result').get('extension').get('attributes')[1].get('value')\n",
    "        #print(num)\n",
    "\n",
    "nested_egg['RARITY'] = nested_egg['TOKEN_ID'].apply(lambda x: swagger_app(x))\n"
   ]
  },
  {
   "cell_type": "code",
   "execution_count": null,
   "metadata": {},
   "outputs": [],
   "source": [
    "#for nested eggs\n",
    "#This should be the faster version pulling directly from the server set up to scrape RE\n",
    "nested_rarity = pd.read_csv('http://165.22.125.123/nested_egg_nfts.csv ')\n",
    "nested_rarity_merge = pd.merge(nested_egg, nested_rarity[['token_id', 'traits']], left_on='TOKEN_ID', right_on='token_id', how='inner')\n",
    "nested_rarity_merge['RARITY'] = nested_rarity_merge['traits'].apply(lambda x: ast.literal_eval(x).get('Rarity'))\n",
    "nested_rarity_merge.pop('traits')\n",
    "nested_rarity_merge"
   ]
  },
  {
   "cell_type": "code",
   "execution_count": null,
   "metadata": {},
   "outputs": [],
   "source": [
    "loot_rarity = pd.read_csv('http://165.22.125.123/loot_nfts.csv')\n",
    "loot_rarity_merge = pd.merge(loot, loot_rarity[['token_id', 'traits']], left_on='TOKEN_ID', right_on='token_id', how='inner')\n",
    "loot_rarity_merge['RARITY'] = loot_rarity_merge['traits'].apply(lambda x: ast.literal_eval(x).get('Rarity'))\n",
    "loot_rarity_merge.pop('traits')\n",
    "loot_rarity_merge"
   ]
  },
  {
   "cell_type": "code",
   "execution_count": null,
   "metadata": {},
   "outputs": [],
   "source": [
    "nft_luna_price_df = []\n",
    "for nft in current_nft_dict:\n",
    "    #renames columns from Flipside dataframes according to NFT\n",
    "    nft_luna_price_df.append(current_nft_dict[nft][['BLOCK_TIMESTAMP', 'NFT_TYPE', 'NFT_LUNA_PRICE']].rename({'NFT_LUNA_PRICE':f'{nft}_LUNA_PRICE'}, axis = 1))\n",
    "nft_luna_price_df = pd.concat(nft_luna_price_df, axis= 1)\n",
    "nft_luna_price_df['BLOCK_TIMESTAMP'] = pd.to_datetime(nft_luna_price_df['BLOCK_TIMESTAMP'])\n",
    "nft_luna_price_df.set_index('BLOCK_TIMESTAMP', inplace = True)\n",
    "nft_luna_price_df.index = nft_luna_price_df.index.round('D')\n",
    "nft_luna_price_df.groupby('BLOCK_TIMESTAMP').sum()"
   ]
  },
  {
   "cell_type": "code",
   "execution_count": null,
   "metadata": {},
   "outputs": [],
   "source": [
    "nft_ust_price_df = []\n",
    "for nft in current_nft_dict:\n",
    "    #renames columns from Flipside dataframes according to NFT\n",
    "    nft_ust_price_df.append(current_nft_dict[nft][['BLOCK_TIMESTAMP', 'NFT_UST_PRICE_AT_PURCHASE']].rename({'NFT_UST_PRICE_AT_PURCHASE':f'{nft}_UST_PRICE'}, axis = 1))\n",
    "nft_ust_price_df = pd.concat(nft_ust_price_df)\n",
    "nft_ust_price_df['BLOCK_TIMESTAMP'] = pd.to_datetime(nft_ust_price_df['BLOCK_TIMESTAMP'])\n",
    "nft_ust_price_df.set_index('BLOCK_TIMESTAMP', inplace = True)\n",
    "nft_ust_price_df.index = nft_ust_price_df.index.round('D')\n",
    "nft_ust_price_df.groupby('BLOCK_TIMESTAMP').sum()"
   ]
  },
  {
   "cell_type": "code",
   "execution_count": null,
   "metadata": {},
   "outputs": [],
   "source": [
    "#pd.DataFrame(nft_ust_price_df.sum()).reset_index().rename(columns={0:\"UST Exchanged Sum\"})\n",
    "nft_ust_price_df.sum()"
   ]
  },
  {
   "cell_type": "code",
   "execution_count": null,
   "metadata": {},
   "outputs": [],
   "source": [
    "tx_count = pd.DataFrame(nft_ust_price_df.apply(lambda x: (x > 0).sum(), axis =  1).groupby('BLOCK_TIMESTAMP').sum()).reset_index()\n",
    "pd.DataFrame(tx_count.rename(columns={0:\"Transaction Count\"})['Transaction Count'])"
   ]
  },
  {
   "cell_type": "code",
   "execution_count": null,
   "metadata": {},
   "outputs": [],
   "source": [
    "nft_luna_price_df.index = nft_luna_price_df.index.round('H')\n",
    "nft_luna_price_df.groupby('BLOCK_TIMESTAMP').sum()"
   ]
  },
  {
   "cell_type": "code",
   "execution_count": null,
   "metadata": {},
   "outputs": [],
   "source": []
  }
 ],
 "metadata": {
  "interpreter": {
   "hash": "2be5faf79681da6f2a61fdfdd5405d65d042280f7fba6178067603e3a2925119"
  },
  "kernelspec": {
   "display_name": "Python 3.10.0 64-bit",
   "language": "python",
   "name": "python3"
  },
  "language_info": {
   "codemirror_mode": {
    "name": "ipython",
    "version": 3
   },
   "file_extension": ".py",
   "mimetype": "text/x-python",
   "name": "python",
   "nbconvert_exporter": "python",
   "pygments_lexer": "ipython3",
   "version": "3.10.0"
  },
  "orig_nbformat": 4
 },
 "nbformat": 4,
 "nbformat_minor": 2
}
